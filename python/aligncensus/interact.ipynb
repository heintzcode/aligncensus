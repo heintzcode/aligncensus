{
 "cells": [
  {
   "cell_type": "code",
   "execution_count": null,
   "metadata": {},
   "outputs": [],
   "source": [
    "import os\n",
    "import requests\n",
    "import pandas as pd\n",
    "from ipywidgets import interact\n",
    "from itables import init_notebook_mode\n",
    "from itables import show\n",
    "\n",
    "\n",
    "def get_census_api_key():\n",
    "    \"\"\"\n",
    "    Go here to get a census api key: https://api.census.gov/data/key_signup.html\n",
    "    Then put it in a file named \"census_api_key.txt\" in this directory\n",
    "    The current_path trick is not guaranteed to work in jupyter notebook; hardcode it if you need to\n",
    "    \"\"\"\n",
    "    current_path = os.getcwd()\n",
    "    with open(os.path.join(current_path, \"census_api_key.txt\"), \"r\") as keyfile:\n",
    "        census_api_key = keyfile.readline().rstrip()\n",
    "    return census_api_key\n",
    "\n",
    "census_api_key = get_census_api_key()\n",
    "\n",
    "top_url = \"https://api.census.gov/data\"\n",
    "census_metadata = requests.get(top_url).json()\n",
    "num_entries = len(census_metadata['dataset'])\n",
    "census_dataset_df = pd.DataFrame(census_metadata['dataset'])\n",
    "\n",
    "init_notebook_mode(all_interactive=True)\n",
    "print(f\"Ready to browse {num_entries} tables\")"
   ]
  },
  {
   "attachments": {},
   "cell_type": "markdown",
   "metadata": {},
   "source": [
    "The following cells make iterative calls to the Census API to get specific kinds of information. If the site is having a slow day, it can be a minute or more for these calls. The interactivity won't seem to work right in these cases - it will send for table \"41\" before you've finished typing \"412\". Patience, or try another day when the response is spiffier."
   ]
  },
  {
   "attachments": {},
   "cell_type": "markdown",
   "metadata": {},
   "source": [
    "Let's do a keyword search over both titles and descriptions to start to find what's interesting to us."
   ]
  },
  {
   "cell_type": "code",
   "execution_count": null,
   "metadata": {},
   "outputs": [],
   "source": [
    "def keyword_search(keyword, showtable):\n",
    "    \"\"\"\n",
    "    TODO: make the keyword search case-insensitive\n",
    "    \"\"\"\n",
    "    title_contains_pattern = census_dataset_df['title'].str.contains(keyword)\n",
    "    descr_contains_pattern = census_dataset_df['description'].str.contains(keyword)\n",
    "    result = census_dataset_df[(title_contains_pattern==True) | (descr_contains_pattern == True)]\n",
    "    if showtable:\n",
    "        return show(result[[\"title\",\"description\"]],  dom=\"tpilr\", classes=\"wrap\", style=\"width:75%\")\n",
    "    else:\n",
    "        return result[[\"title\", \"description\"]]\n",
    "# You'll be able to change the keyword in the interactive prompt that appears\n",
    "interact(keyword_search, keyword='Employment', showtable=True)"
   ]
  },
  {
   "attachments": {},
   "cell_type": "markdown",
   "metadata": {},
   "source": [
    "What variables are available to explore in these tables? Use the indices from the table above to specify which tables to further explore."
   ]
  },
  {
   "cell_type": "code",
   "execution_count": null,
   "metadata": {},
   "outputs": [],
   "source": [
    "def get_variables(table_index, showtable):\n",
    "    ind = int(table_index)\n",
    "    vlink = census_dataset_df[\"c_variablesLink\"][ind]\n",
    "    vars = requests.get(vlink).json()['variables']\n",
    "    df = pd.DataFrame(vars).transpose()\n",
    "    if showtable:\n",
    "        return show(df,  dom=\"tpilr\", classes=\"wrap\", style=\"width:75%\")\n",
    "    else:\n",
    "        return df\n",
    "# We use a string instead of an integer here so you get a text prompt instead of a slider\n",
    "interact(get_variables, table_index=\"412\", showtable=True)\n",
    "\n",
    "# If the API is having a slow day, then changing the table index will take awhile to generate the new results\n",
    "# It does re-query the API to get the variables information for each table of interest"
   ]
  },
  {
   "attachments": {},
   "cell_type": "markdown",
   "metadata": {},
   "source": [
    "What geographical variables are available to query in the tables of interest? Use the table indices from the keyword search above."
   ]
  },
  {
   "cell_type": "code",
   "execution_count": null,
   "metadata": {},
   "outputs": [],
   "source": [
    "def get_geography(table_index, showtable):\n",
    "    ind = int(table_index)\n",
    "    glink = census_dataset_df[\"c_geographyLink\"][ind]\n",
    "    geo = requests.get(glink).json()['fips']\n",
    "    df = pd.DataFrame(geo)\n",
    "    if showtable:\n",
    "        return show(df, dom=\"tpilr\", classes=\"wrap\", style=\"width:75%\")\n",
    "    else:\n",
    "        return df\n",
    "    \n",
    "interact(get_geography, table_index=\"1177\", showtable=True)"
   ]
  },
  {
   "attachments": {},
   "cell_type": "markdown",
   "metadata": {},
   "source": [
    "Use the next function to show example queries for your table and columns of interest. You will have to fill in \"YOUR_PREDICATE_VALUES\" - for instance, the zipcodes or years of interest to you."
   ]
  },
  {
   "cell_type": "code",
   "execution_count": null,
   "metadata": {},
   "outputs": [],
   "source": [
    "def create_example_query(table_index, variable, predicate):\n",
    "    table_index = int(table_index)\n",
    "    table_url = census_dataset_df[\"distribution\"][table_index][0][\"accessURL\"]\n",
    "    predicate = predicate.replace(\" \", \"\")\n",
    "    request = f\"{table_url}?get={variable}&for={predicate}:YOUR_PREDICATE_VALUES&key={census_api_key}\"\n",
    "    return {\"table_url\":table_url, \"request\": request}\n",
    "    \n",
    "# Which table is of interest?\n",
    "table_index = 412\n",
    "# Do you want to limit the returns by geography? (YOUR_PREDICATE_VALUES will be zipcodes or state names or the like)\n",
    "geo=True\n",
    "# Do you want to limit the returns by time? (YOUR_PREDICATE_VALUES will be date ranges)\n",
    "time=True\n",
    "# Need to implement and test time-based predicates, we just have geography for now\n",
    "\n",
    "# Choose new values in the drop-downs below to create new example queries\n",
    "# You can copy and paste the request url into your code,\n",
    "# Or you can use the queries class to create and check the request url\n",
    "interact(create_example_query, table_index=str(table_index), variable=get_variables(str(table_index), showtable=False).index, predicate=get_geography(str(table_index), showtable=False).name)\n"
   ]
  },
  {
   "cell_type": "code",
   "execution_count": null,
   "metadata": {},
   "outputs": [],
   "source": [
    "from queries import CensusQuery\n",
    "# request = create_example_query(412, \"PAYQTR1_N\", \"zip code\")\n",
    "# request = request.replace(\"YOUR_PREDICATE_VALUES\", \"10036\")\n",
    "\n",
    "cq = CensusQuery()\n",
    "cq.set_census_api_key()\n",
    "cq.set_census_database_url(\"http://api.census.gov/data/2012/zbp\")\n",
    "cq.set_census_variable(\"PAYQTR1\")\n",
    "cq.set_census_predicate(\"ZIPCODE:10036,10038\")\n",
    "df = cq.get_census_dataframe()\n",
    "\n",
    "# check out queries.py to see how to align this census dataframe with your own data"
   ]
  }
 ],
 "metadata": {
  "kernelspec": {
   "display_name": "Python 3",
   "language": "python",
   "name": "python3"
  },
  "language_info": {
   "codemirror_mode": {
    "name": "ipython",
    "version": 3
   },
   "file_extension": ".py",
   "mimetype": "text/x-python",
   "name": "python",
   "nbconvert_exporter": "python",
   "pygments_lexer": "ipython3",
   "version": "3.9.10"
  },
  "orig_nbformat": 4
 },
 "nbformat": 4,
 "nbformat_minor": 2
}

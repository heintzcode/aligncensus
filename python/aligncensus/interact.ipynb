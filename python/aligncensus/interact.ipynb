{
 "cells": [
  {
   "cell_type": "code",
   "execution_count": 7,
   "metadata": {},
   "outputs": [
    {
     "name": "stdout",
     "output_type": "stream",
     "text": [
      "Ready to browse 1329 tables\n"
     ]
    }
   ],
   "source": [
    "import os\n",
    "import requests\n",
    "import pandas as pd\n",
    "from ipywidgets import interact\n",
    "\n",
    "\n",
    "def get_census_api_key():\n",
    "    \"\"\"\n",
    "    Go here to get a census api key: https://api.census.gov/data/key_signup.html\n",
    "    Then put it in a file named \"census_api_key.txt\" in this directory\n",
    "    The current_path trick is not guaranteed to work in jupyter notebook; hardcode it if you need to\n",
    "    \"\"\"\n",
    "    current_path = os.getcwd()\n",
    "    with open(os.path.join(current_path, \"census_api_key.txt\"), \"r\") as keyfile:\n",
    "        census_api_key = keyfile.readline().rstrip()\n",
    "    return census_api_key\n",
    "\n",
    "census_api_key = get_census_api_key()\n",
    "\n",
    "top_url = \"https://api.census.gov/data\"\n",
    "census_metadata = requests.get(top_url).json()\n",
    "num_entries = len(census_metadata['dataset'])\n",
    "census_dataset_df = pd.DataFrame(census_metadata['dataset'])\n",
    "\n",
    "print(f\"Ready to browse {num_entries} tables\")"
   ]
  },
  {
   "attachments": {},
   "cell_type": "markdown",
   "metadata": {},
   "source": [
    "Let's do a keyword search over both titles and descriptions to start to find what's interesting to us."
   ]
  },
  {
   "cell_type": "code",
   "execution_count": 129,
   "metadata": {},
   "outputs": [
    {
     "data": {
      "application/vnd.jupyter.widget-view+json": {
       "model_id": "3683993f919c4d67ba96eab42c62192e",
       "version_major": 2,
       "version_minor": 0
      },
      "text/plain": [
       "interactive(children=(Text(value='Employment', description='keyword'), Output()), _dom_classes=('widget-intera…"
      ]
     },
     "metadata": {},
     "output_type": "display_data"
    },
    {
     "data": {
      "text/plain": [
       "<function __main__.keyword_search(keyword)>"
      ]
     },
     "execution_count": 129,
     "metadata": {},
     "output_type": "execute_result"
    }
   ],
   "source": [
    "# from IPython.display import display\n",
    "\n",
    "pd.set_option('display.max_colwidth', None)\n",
    "\n",
    "def keyword_search(keyword):\n",
    "    \"\"\"\n",
    "    TODO: make the keyword search case-insensitive\n",
    "    \"\"\"\n",
    "    title_contains_pattern = census_dataset_df['title'].str.contains(keyword)\n",
    "    descr_contains_pattern = census_dataset_df['description'].str.contains(keyword)\n",
    "    result = census_dataset_df[(title_contains_pattern==True) | (descr_contains_pattern == True)]\n",
    "    return display(result[[\"title\",\"description\"]])\n",
    "\n",
    "interact(keyword_search, keyword='Employment')"
   ]
  },
  {
   "cell_type": "code",
   "execution_count": null,
   "metadata": {},
   "outputs": [],
   "source": [
    "\n",
    "\n"
   ]
  }
 ],
 "metadata": {
  "kernelspec": {
   "display_name": "Python 3",
   "language": "python",
   "name": "python3"
  },
  "language_info": {
   "codemirror_mode": {
    "name": "ipython",
    "version": 3
   },
   "file_extension": ".py",
   "mimetype": "text/x-python",
   "name": "python",
   "nbconvert_exporter": "python",
   "pygments_lexer": "ipython3",
   "version": "3.9.10"
  },
  "orig_nbformat": 4
 },
 "nbformat": 4,
 "nbformat_minor": 2
}

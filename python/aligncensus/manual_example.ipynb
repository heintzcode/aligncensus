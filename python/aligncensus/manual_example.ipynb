{
 "cells": [
  {
   "attachments": {},
   "cell_type": "markdown",
   "metadata": {},
   "source": [
    "# How to manually align some census data with your own data of interest."
   ]
  },
  {
   "cell_type": "code",
   "execution_count": 3,
   "metadata": {},
   "outputs": [],
   "source": [
    "import os\n",
    "import pandas as pd\n",
    "import requests\n",
    "from time import time\n",
    "\n",
    "def get_census_api_key():\n",
    "    \"\"\"\n",
    "    Go here to get a census api key: https://api.census.gov/data/key_signup.html\n",
    "    Then put it in a file named \"census_api_key.txt\" in this directory\n",
    "    The current_path trick is not guaranteed to work in jupyter notebook; hardcode it if you need to\n",
    "    \"\"\"\n",
    "    current_path = os.getcwd()\n",
    "    with open(os.path.join(current_path, \"census_api_key.txt\"), \"r\") as keyfile:\n",
    "        census_api_key = keyfile.readline().rstrip()\n",
    "    return census_api_key\n",
    "\n",
    "census_api_key = get_census_api_key()"
   ]
  },
  {
   "attachments": {},
   "cell_type": "markdown",
   "metadata": {},
   "source": [
    "#### Load your own dataset of interest into a dataframe\n",
    "The example data is a public dataset regarding energy and water usage in new york city"
   ]
  },
  {
   "cell_type": "code",
   "execution_count": 4,
   "metadata": {},
   "outputs": [
    {
     "name": "stdout",
     "output_type": "stream",
     "text": [
      "Read 1000 rows from dataset of interest\n"
     ]
    }
   ],
   "source": [
    "mydata_url = \"https://data.cityofnewyork.us/resource/usc3-8zwd.csv\"\n",
    "my_df = pd.read_csv(mydata_url)\n",
    "print(f\"Read {my_df.shape[0]} rows from dataset of interest\")"
   ]
  },
  {
   "attachments": {},
   "cell_type": "markdown",
   "metadata": {},
   "source": [
    "### Identify the column with geographical data, like zipcode, city, county, lat/long\n",
    "Create a duplicate of that column that's all strings, for later simplicity"
   ]
  },
  {
   "cell_type": "code",
   "execution_count": 15,
   "metadata": {},
   "outputs": [
    {
     "name": "stdout",
     "output_type": "stream",
     "text": [
      "Potential columns of interest: Index(['postcode', 'postcode_str'], dtype='object')\n",
      "geo_column looks like: \n",
      "0    10036\n",
      "1    10017\n",
      "2    10036\n",
      "3    10017\n",
      "4    10036\n",
      "5    10032\n",
      "6    10021\n",
      "7    10034\n",
      "8    10022\n",
      "9    10005\n",
      "Name: postcode_str, dtype: object\n"
     ]
    }
   ],
   "source": [
    "# Look for something like zipcode or postcode in the column names\n",
    "print(f\"Potential columns of interest: {my_df.filter(regex='code|county|zip').columns}\")\n",
    "\n",
    "# When you find one, put it here\n",
    "mydata_geo_column = \"postcode\"\n",
    "mydata_geo_column_str = f\"{mydata_geo_column}_str\"\n",
    "my_df[mydata_geo_column_str] = my_df[mydata_geo_column].apply(lambda x: str(x))\n",
    "print(f\"geo_column looks like: \\n{my_df[mydata_geo_column_str][:10]}\")"
   ]
  },
  {
   "attachments": {},
   "cell_type": "markdown",
   "metadata": {},
   "source": [
    "### Identify a census database that you want to use\n",
    "Plan is to make an interactive module to help with this as part of this library\n",
    "\n",
    "For now you'll have to search here: https://api.census.gov/data.html\n",
    "\n",
    "Take note of:\n",
    "\n",
    "1. the database's url\n",
    "1. the name of the variable of interest\n",
    "1. the name of the column with geographic info that you'll use for alignment"
   ]
  },
  {
   "cell_type": "code",
   "execution_count": 8,
   "metadata": {},
   "outputs": [],
   "source": [
    "census_database_url = \"http://api.census.gov/data/1994/zbp\"\n",
    "census_variable = \"PAYQTR1\"\n",
    "census_geo_column = \"zipcode\""
   ]
  },
  {
   "attachments": {},
   "cell_type": "markdown",
   "metadata": {},
   "source": [
    "### Generate the predicate part of the query\n",
    "The predicate limits the query to only certain rows of the data, so you're not retrieving the whole table.\n",
    "\n",
    "Typically, you'll want to use your geographic column to find associated rows in the census data. That is, for each (zipcode, county, region) in your data of interest, you want to find and grab that row from the census data. \n",
    "\n",
    "You don't want to use a `for` loop for this task, i.e. moving through each row of your data to make a request based on that row. Sometimes the census API is very slow - a minute or more per request. Think about what is the info from you need from your data to create the constraint in the census data, and collect it up. Don't worry about what order it's in.\n",
    "\n",
    "Here, we get the `set` of all `postcode`s in our data of interest. There are fewer than 200 unique ones in the 1000 rows we downloaded. We turn these into a comma-separated string and prefix it with `zipcode:`, because that's the column in the census data that contains the same info. \n",
    "\n",
    "The set of comma-separated postcodes/zipcodes get slotted into the part of the request that says \"&for=\" -- the predicate. \n",
    "\n",
    "It can take a few tries to get this right when you're starting fresh. Use the api guide (linked below) for help.\n"
   ]
  },
  {
   "cell_type": "code",
   "execution_count": 9,
   "metadata": {},
   "outputs": [],
   "source": [
    "census_predicate = f\"zipcode:{','.join([i for i in set(my_df['postcode_str'])])}\""
   ]
  },
  {
   "attachments": {},
   "cell_type": "markdown",
   "metadata": {},
   "source": [
    "### Make the http request\n",
    "Build up the request from the variables above, using https://www.census.gov/content/dam/Census/data/developers/api-user-guide/api-guide.pdf\n",
    "\n",
    "It takes about 40 seconds for the request to complete."
   ]
  },
  {
   "cell_type": "code",
   "execution_count": 10,
   "metadata": {},
   "outputs": [
    {
     "name": "stdout",
     "output_type": "stream",
     "text": [
      "Sending request (abbreviated): http://api.census.gov/data/1994/zbp?get=PAYQTR1&for=zipcode:10004,11365,11428,11379,11357,11367,10304,10301,10034,11429,11366,11417,10006,10128,10456,\n",
      "Response received in 42.77474236488342 seconds\n"
     ]
    }
   ],
   "source": [
    "request = f\"{census_database_url}?get={census_variable}&for={census_predicate}&key={census_api_key}\"\n",
    "print(f\"Sending request (abbreviated): {request[:150]}\")\n",
    "t1 = time()\n",
    "response = requests.get(request)\n",
    "t2 = time()\n",
    "print(f\"Response received in {(t2-t1)} seconds\")"
   ]
  },
  {
   "attachments": {},
   "cell_type": "markdown",
   "metadata": {},
   "source": [
    "### Check the response status code\n",
    "If you try to parse it right away, it can be difficult to understand error codes\n",
    "\n",
    "So first check for an errorful response, and try to understand that. https://developer.mozilla.org/en-US/docs/Web/HTTP/Status#successful_responses\n",
    "\n",
    "1. error 400: bad request, the query is malformed\n",
    "1. error 204; no content in the response (good request but no corresponding entries?)\n",
    "1. status 200: good to go!\n"
   ]
  },
  {
   "cell_type": "code",
   "execution_count": 11,
   "metadata": {},
   "outputs": [
    {
     "name": "stdout",
     "output_type": "stream",
     "text": [
      "Census data retrieved, proceed with parsing\n"
     ]
    }
   ],
   "source": [
    "if response.status_code != 200:\n",
    "    print(f\"Request returned an error response, status code: {response.status_code}\")\n",
    "else:\n",
    "    print(f\"Census data retrieved, proceed with parsing\")"
   ]
  },
  {
   "attachments": {},
   "cell_type": "markdown",
   "metadata": {},
   "source": [
    "### Create a dataframe of the data you retrieved\n",
    "It's a one-liner!"
   ]
  },
  {
   "cell_type": "code",
   "execution_count": 12,
   "metadata": {},
   "outputs": [
    {
     "name": "stdout",
     "output_type": "stream",
     "text": [
      "Retrieved 182 rows with columns Index(['PAYQTR1', 'zipcode'], dtype='object')\n"
     ]
    }
   ],
   "source": [
    "census_df = pd.DataFrame(response.json()[1:], columns=response.json()[0])\n",
    "print(f\"Retrieved {census_df.shape[0]} rows with columns {census_df.columns}\")"
   ]
  },
  {
   "attachments": {},
   "cell_type": "markdown",
   "metadata": {},
   "source": [
    "### Align the two datasets using the geographic data in each\n",
    "Again, a one-liner does the trick.\n",
    "\n",
    "Make a new column in your dataframe that contains the correct value of interest for each value in your data's geographic column. We use the `pandas.DataFrame.join` method - no `for` loops!"
   ]
  },
  {
   "cell_type": "code",
   "execution_count": 13,
   "metadata": {},
   "outputs": [
    {
     "name": "stdout",
     "output_type": "stream",
     "text": [
      "Databases joined, items of interest:\n",
      "     postcode  PAYQTR1\n",
      "0       10036  1116756\n",
      "1       10017  1723647\n",
      "2       10036  1116756\n",
      "3       10017  1723647\n",
      "4       10036  1116756\n",
      "..        ...      ...\n",
      "995     11235    77067\n",
      "996     11225    13276\n",
      "997     11230    52179\n",
      "998     11230    52179\n",
      "999     11203   130846\n",
      "\n",
      "[1000 rows x 2 columns]\n"
     ]
    }
   ],
   "source": [
    "my_df_enhanced = my_df.join(census_df.set_index(census_geo_column), on=mydata_geo_column_str)\n",
    "print(\"Databases joined, items of interest:\")    \n",
    "print(my_df_enhanced[[mydata_geo_column, census_variable]])"
   ]
  },
  {
   "attachments": {},
   "cell_type": "markdown",
   "metadata": {},
   "source": [
    "You're now free to use your enhanced dataset to model the demographic variable against the data you collected elsewhere. You can also repeat the above to get additional variables from the census data and align it the same way - just change the `census_variable` entry and rerun."
   ]
  }
 ],
 "metadata": {
  "kernelspec": {
   "display_name": "Python 3",
   "language": "python",
   "name": "python3"
  },
  "language_info": {
   "codemirror_mode": {
    "name": "ipython",
    "version": 3
   },
   "file_extension": ".py",
   "mimetype": "text/x-python",
   "name": "python",
   "nbconvert_exporter": "python",
   "pygments_lexer": "ipython3",
   "version": "3.9.10"
  },
  "orig_nbformat": 4,
  "vscode": {
   "interpreter": {
    "hash": "2485a0361dacba6d8448d1ce75771196de06d594c3c0341a1bda475771ec2263"
   }
  }
 },
 "nbformat": 4,
 "nbformat_minor": 2
}
